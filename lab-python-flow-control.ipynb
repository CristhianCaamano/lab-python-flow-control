{
 "cells": [
  {
   "cell_type": "code",
   "execution_count": 45,
   "id": "a0a5e5ec-6069-44ee-998e-e06b392496bc",
   "metadata": {},
   "outputs": [
    {
     "name": "stdin",
     "output_type": "stream",
     "text": [
      "Choose quantity of ['t-shirt', 'mug', 'hat', 'book', 'keychain']:  5\n"
     ]
    },
    {
     "name": "stdout",
     "output_type": "stream",
     "text": [
      "{'t-shirt': 5}\n"
     ]
    },
    {
     "name": "stdin",
     "output_type": "stream",
     "text": [
      "Choose quantity of ['t-shirt', 'mug', 'hat', 'book', 'keychain']:  5\n"
     ]
    },
    {
     "name": "stdout",
     "output_type": "stream",
     "text": [
      "{'t-shirt': 5, 'mug': 5}\n"
     ]
    },
    {
     "name": "stdin",
     "output_type": "stream",
     "text": [
      "Choose quantity of ['t-shirt', 'mug', 'hat', 'book', 'keychain']:  5\n"
     ]
    },
    {
     "name": "stdout",
     "output_type": "stream",
     "text": [
      "{'t-shirt': 5, 'mug': 5, 'hat': 5}\n"
     ]
    },
    {
     "name": "stdin",
     "output_type": "stream",
     "text": [
      "Choose quantity of ['t-shirt', 'mug', 'hat', 'book', 'keychain']:  5\n"
     ]
    },
    {
     "name": "stdout",
     "output_type": "stream",
     "text": [
      "{'t-shirt': 5, 'mug': 5, 'hat': 5, 'book': 5}\n"
     ]
    },
    {
     "name": "stdin",
     "output_type": "stream",
     "text": [
      "Choose quantity of ['t-shirt', 'mug', 'hat', 'book', 'keychain']:  5\n"
     ]
    },
    {
     "name": "stdout",
     "output_type": "stream",
     "text": [
      "{'t-shirt': 5, 'mug': 5, 'hat': 5, 'book': 5, 'keychain': 5}\n"
     ]
    }
   ],
   "source": [
    "#Instead of asking the user to input the name of three products that a customer wants to order, do the following:\n",
    "#Prompt the user to enter the name of a product that a customer wants to order.\n",
    "#Add the product name to the \"customer_orders\" set.\n",
    "#Ask the user if they want to add another product (yes/no).\n",
    "#Continue the loop until the user does not want to add another product.\n",
    "products = ['t-shirt', 'mug', 'hat', 'book', 'keychain']\n",
    "inventory = {}\n",
    "\n",
    "for p in products:\n",
    "    quantity = int(input(f'Choose quantity of {products}: '))\n",
    "    inventory[p] = quantity\n",
    "    print(inventory)"
   ]
  },
  {
   "cell_type": "code",
   "execution_count": 47,
   "id": "fc730d8e-684f-42ff-858b-fd6c791f3c23",
   "metadata": {},
   "outputs": [
    {
     "name": "stdin",
     "output_type": "stream",
     "text": [
      "Enter the name of ['t-shirt', 'mug', 'hat', 'book', 'keychain'] to order:  mug\n",
      "Do you want to add another product book\n"
     ]
    },
    {
     "name": "stdout",
     "output_type": "stream",
     "text": [
      "Customer order:  mug keychain\n"
     ]
    }
   ],
   "source": [
    "customer_order = set()\n",
    "\n",
    "order = input(f'Enter the name of {products} to order: ')\n",
    "customer_order.add(order)\n",
    "\n",
    "answer = input('Do you want to add another product')\n",
    "\n",
    "while True:\n",
    "    if answer == 'yes':\n",
    "        product = input(f'Enter the name of {products} to order: ')\n",
    "        customer_order.add(product)\n",
    "    break\n",
    "\n",
    "print('Customer order: ',\n",
    "      order ,\n",
    "      product)"
   ]
  },
  {
   "cell_type": "code",
   "execution_count": 28,
   "id": "1b9c3acc-7e6f-47b4-9f94-987f77257a01",
   "metadata": {},
   "outputs": [
    {
     "name": "stdout",
     "output_type": "stream",
     "text": [
      "{'t-shirt': 5, 'mug': -1, 'hat': -1, 'book': 5, 'keychain': 5}\n",
      "{'t-shirt': 5, 'mug': -1, 'hat': -1, 'book': 5, 'keychain': 5}\n"
     ]
    }
   ],
   "source": [
    "for product in customer_order:\n",
    "    inventory[product] =- 1\n",
    "    print(inventory)"
   ]
  },
  {
   "cell_type": "code",
   "execution_count": null,
   "id": "55a9e106-3bef-4bf8-a57a-a0d25451c88e",
   "metadata": {},
   "outputs": [],
   "source": []
  }
 ],
 "metadata": {
  "kernelspec": {
   "display_name": "Python 3 (ipykernel)",
   "language": "python",
   "name": "python3"
  },
  "language_info": {
   "codemirror_mode": {
    "name": "ipython",
    "version": 3
   },
   "file_extension": ".py",
   "mimetype": "text/x-python",
   "name": "python",
   "nbconvert_exporter": "python",
   "pygments_lexer": "ipython3",
   "version": "3.12.7"
  }
 },
 "nbformat": 4,
 "nbformat_minor": 5
}
